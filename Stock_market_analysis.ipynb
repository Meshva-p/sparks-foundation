{
  "nbformat": 4,
  "nbformat_minor": 0,
  "metadata": {
    "colab": {
      "name": "Stock market analysis.ipynb",
      "provenance": [],
      "collapsed_sections": [],
      "authorship_tag": "ABX9TyM74Ad6wPalwDozZ2MpjGCe",
      "include_colab_link": true
    },
    "kernelspec": {
      "name": "python3",
      "display_name": "Python 3"
    }
  },
  "cells": [
    {
      "cell_type": "markdown",
      "metadata": {
        "id": "view-in-github",
        "colab_type": "text"
      },
      "source": [
        "<a href=\"https://colab.research.google.com/github/Meshva-p/sparks-foundation/blob/main/Stock_market_analysis.ipynb\" target=\"_parent\"><img src=\"https://colab.research.google.com/assets/colab-badge.svg\" alt=\"Open In Colab\"/></a>"
      ]
    },
    {
      "cell_type": "markdown",
      "metadata": {
        "id": "wF5_yRWfkVHd"
      },
      "source": [
        "# **TASK 4 - STOCK MARKET PREDICTION USING NUMERICAL AND TEXTUAL DATA**\n",
        "\n",
        "Author -  Meshva Patel\n",
        "\n",
        "Data Science and Business Analytics Intern"
      ]
    },
    {
      "cell_type": "code",
      "metadata": {
        "id": "dUOKdKRhv10O"
      },
      "source": [
        "import pandas as pd\n",
        "import numpy as np\n",
        "import seaborn as sns\n",
        "import matplotlib.pyplot as plt"
      ],
      "execution_count": null,
      "outputs": []
    },
    {
      "cell_type": "code",
      "metadata": {
        "id": "40hodzQrv94J",
        "colab": {
          "base_uri": "https://localhost:8080/",
          "height": 34
        },
        "outputId": "241f59d4-8db9-43df-fbc6-691095f95fe7"
      },
      "source": [
        "from google.colab import drive\n",
        "drive.mount(\"/content/gdrive\")"
      ],
      "execution_count": null,
      "outputs": [
        {
          "output_type": "stream",
          "text": [
            "Mounted at /content/gdrive\n"
          ],
          "name": "stdout"
        }
      ]
    },
    {
      "cell_type": "code",
      "metadata": {
        "id": "qBicd66TwTaC",
        "colab": {
          "base_uri": "https://localhost:8080/",
          "height": 235
        },
        "outputId": "8e05b9dc-6cee-4f9e-e0ce-13dee213b1d0"
      },
      "source": [
        "import datetime\n",
        "import pandas_datareader.data as web\n",
        "from pandas import Series, DataFrame\n",
        "\n",
        "\n",
        "start = datetime.datetime(2010, 1, 1)\n",
        "end = datetime.datetime(2020, 1, 1)\n",
        "\n",
        "df = web.DataReader(\"AAPL\", 'yahoo', start, end)\n",
        "df.tail()"
      ],
      "execution_count": null,
      "outputs": [
        {
          "output_type": "execute_result",
          "data": {
            "text/html": [
              "<div>\n",
              "<style scoped>\n",
              "    .dataframe tbody tr th:only-of-type {\n",
              "        vertical-align: middle;\n",
              "    }\n",
              "\n",
              "    .dataframe tbody tr th {\n",
              "        vertical-align: top;\n",
              "    }\n",
              "\n",
              "    .dataframe thead th {\n",
              "        text-align: right;\n",
              "    }\n",
              "</style>\n",
              "<table border=\"1\" class=\"dataframe\">\n",
              "  <thead>\n",
              "    <tr style=\"text-align: right;\">\n",
              "      <th></th>\n",
              "      <th>High</th>\n",
              "      <th>Low</th>\n",
              "      <th>Open</th>\n",
              "      <th>Close</th>\n",
              "      <th>Volume</th>\n",
              "      <th>Adj Close</th>\n",
              "    </tr>\n",
              "    <tr>\n",
              "      <th>Date</th>\n",
              "      <th></th>\n",
              "      <th></th>\n",
              "      <th></th>\n",
              "      <th></th>\n",
              "      <th></th>\n",
              "      <th></th>\n",
              "    </tr>\n",
              "  </thead>\n",
              "  <tbody>\n",
              "    <tr>\n",
              "      <th>2019-12-24</th>\n",
              "      <td>71.222504</td>\n",
              "      <td>70.730003</td>\n",
              "      <td>71.172501</td>\n",
              "      <td>71.067497</td>\n",
              "      <td>48478800.0</td>\n",
              "      <td>70.580566</td>\n",
              "    </tr>\n",
              "    <tr>\n",
              "      <th>2019-12-26</th>\n",
              "      <td>72.495003</td>\n",
              "      <td>71.175003</td>\n",
              "      <td>71.205002</td>\n",
              "      <td>72.477501</td>\n",
              "      <td>93121200.0</td>\n",
              "      <td>71.980911</td>\n",
              "    </tr>\n",
              "    <tr>\n",
              "      <th>2019-12-27</th>\n",
              "      <td>73.492500</td>\n",
              "      <td>72.029999</td>\n",
              "      <td>72.779999</td>\n",
              "      <td>72.449997</td>\n",
              "      <td>146266000.0</td>\n",
              "      <td>71.953598</td>\n",
              "    </tr>\n",
              "    <tr>\n",
              "      <th>2019-12-30</th>\n",
              "      <td>73.172501</td>\n",
              "      <td>71.305000</td>\n",
              "      <td>72.364998</td>\n",
              "      <td>72.879997</td>\n",
              "      <td>144114400.0</td>\n",
              "      <td>72.380653</td>\n",
              "    </tr>\n",
              "    <tr>\n",
              "      <th>2019-12-31</th>\n",
              "      <td>73.419998</td>\n",
              "      <td>72.379997</td>\n",
              "      <td>72.482498</td>\n",
              "      <td>73.412498</td>\n",
              "      <td>100805600.0</td>\n",
              "      <td>72.909500</td>\n",
              "    </tr>\n",
              "  </tbody>\n",
              "</table>\n",
              "</div>"
            ],
            "text/plain": [
              "                 High        Low       Open      Close       Volume  Adj Close\n",
              "Date                                                                          \n",
              "2019-12-24  71.222504  70.730003  71.172501  71.067497   48478800.0  70.580566\n",
              "2019-12-26  72.495003  71.175003  71.205002  72.477501   93121200.0  71.980911\n",
              "2019-12-27  73.492500  72.029999  72.779999  72.449997  146266000.0  71.953598\n",
              "2019-12-30  73.172501  71.305000  72.364998  72.879997  144114400.0  72.380653\n",
              "2019-12-31  73.419998  72.379997  72.482498  73.412498  100805600.0  72.909500"
            ]
          },
          "metadata": {
            "tags": []
          },
          "execution_count": 5
        }
      ]
    },
    {
      "cell_type": "markdown",
      "metadata": {
        "id": "zW1zuqmfwi1u"
      },
      "source": [
        "10 years data from January 2010 until January 2020.\n",
        "\n",
        "Closing Price which remarks the final price in which the stocks are traded by the end of the day.\n",
        "\n",
        "Adjusted close is the closing price after adjustments for all applicable splits and dividend distributions."
      ]
    },
    {
      "cell_type": "code",
      "metadata": {
        "id": "ydm6yUaxQhlh",
        "colab": {
          "base_uri": "https://localhost:8080/",
          "height": 411
        },
        "outputId": "2a7a24b4-a9f3-4393-c545-27da1044970b"
      },
      "source": [
        "plt.figure(figsize=(14,6))\n",
        "plt.title('Stocks',fontsize=16)\n",
        "plt.xlabel(\"Days\",fontsize= 16)\n",
        "plt.ylabel(\"Close\", fontsize= 16)\n",
        "plt.plot(df[\"Close\"])\n",
        "plt.show()"
      ],
      "execution_count": null,
      "outputs": [
        {
          "output_type": "display_data",
          "data": {
            "image/png": "[encoded data removed]",
            "text/plain": [
              "<Figure size 1008x432 with 1 Axes>"
            ]
          },
          "metadata": {
            "tags": [],
            "needs_background": "light"
          }
        }
      ]
    },
    {
      "cell_type": "markdown",
      "metadata": {
        "id": "oDpqd8Jwyvvh"
      },
      "source": [
        "### **Rolling Mean (Moving Average) — to determine trends ** "
      ]
    },
    {
      "cell_type": "code",
      "metadata": {
        "id": "_bbx1MV9zj2R",
        "colab": {
          "base_uri": "https://localhost:8080/",
          "height": 391
        },
        "outputId": "0f66c3cb-a412-4e62-a521-d8b57fc15ef6"
      },
      "source": [
        "close_p = df['Adj Close']\n",
        "avg = close_p.rolling(window=100).mean()\n",
        "avg.head(20)"
      ],
      "execution_count": null,
      "outputs": [
        {
          "output_type": "execute_result",
          "data": {
            "text/plain": [
              "Date\n",
              "2010-01-04   NaN\n",
              "2010-01-05   NaN\n",
              "2010-01-06   NaN\n",
              "2010-01-07   NaN\n",
              "2010-01-08   NaN\n",
              "2010-01-11   NaN\n",
              "2010-01-12   NaN\n",
              "2010-01-13   NaN\n",
              "2010-01-14   NaN\n",
              "2010-01-15   NaN\n",
              "2010-01-19   NaN\n",
              "2010-01-20   NaN\n",
              "2010-01-21   NaN\n",
              "2010-01-22   NaN\n",
              "2010-01-25   NaN\n",
              "2010-01-26   NaN\n",
              "2010-01-27   NaN\n",
              "2010-01-28   NaN\n",
              "2010-01-29   NaN\n",
              "2010-02-01   NaN\n",
              "Name: Adj Close, dtype: float64"
            ]
          },
          "metadata": {
            "tags": []
          },
          "execution_count": 7
        }
      ]
    },
    {
      "cell_type": "code",
      "metadata": {
        "id": "D2jvVRo4zu48",
        "colab": {
          "base_uri": "https://localhost:8080/",
          "height": 468
        },
        "outputId": "b58fd04b-a0aa-4a13-c295-92e77aa6e4db"
      },
      "source": [
        "%matplotlib inline\n",
        "import matplotlib.pyplot as plt\n",
        "from matplotlib import style\n",
        "\n",
        "# Adjusting the size of matplotlib\n",
        "import matplotlib as mpl\n",
        "mpl.rc('figure', figsize=(10, 8))\n",
        "mpl.__version__\n",
        "\n",
        "# Adjusting the style of matplotlib\n",
        "style.use('ggplot')\n",
        "\n",
        "close_p.plot(label='MSFT')\n",
        "avg.plot(label='avg')\n",
        "plt.legend()\n",
        "plt.show()"
      ],
      "execution_count": null,
      "outputs": [
        {
          "output_type": "display_data",
          "data": {
            "image/png": "[encoded data removed]",
            "text/plain": [
              "<Figure size 720x576 with 1 Axes>"
            ]
          },
          "metadata": {
            "tags": []
          }
        }
      ]
    },
    {
      "cell_type": "markdown",
      "metadata": {
        "id": "EUqqX-Mp0XQb"
      },
      "source": [
        "Moving average is a calculation to analyze data points by creating a series of averages of different subsets of the full data set.This eliminates “noise” in our price chart.“Resistance” meaning from the downtrend and uptrend of stocks you could expect it will follow the trend and less likely to deviate outside its resistance point."
      ]
    },
    {
      "cell_type": "markdown",
      "metadata": {
        "id": "aH72iV5B03rE"
      },
      "source": [
        "OBSERVATION : \n",
        "\n",
        "1.   The Moving Average makes the line smooth and showcase the increasing or decreasing trend of stocks price.\n",
        "\n",
        "\n"
      ]
    },
    {
      "cell_type": "markdown",
      "metadata": {
        "id": "WRoJtrIX1JiD"
      },
      "source": [
        "***Return Deviation - to determine risk and return***"
      ]
    },
    {
      "cell_type": "code",
      "metadata": {
        "id": "T8FO_ITA1OV1",
        "colab": {
          "base_uri": "https://localhost:8080/",
          "height": 468
        },
        "outputId": "f7bc2d6c-c144-49dc-8819-49a8662c7956"
      },
      "source": [
        "ret = close_p / close_p.shift(1) - 1\n",
        "ret.plot(label='return', color='teal')\n",
        "plt.show()"
      ],
      "execution_count": null,
      "outputs": [
        {
          "output_type": "display_data",
          "data": {
            "image/png": "[encoded data removed]",
            "text/plain": [
              "<Figure size 720x576 with 1 Axes>"
            ]
          },
          "metadata": {
            "tags": []
          }
        }
      ]
    },
    {
      "cell_type": "markdown",
      "metadata": {
        "id": "KFjPAMvo2EID"
      },
      "source": [
        "Expected return and standard deviation are two statistical measures that can be used to analyze a portfolio"
      ]
    },
    {
      "cell_type": "markdown",
      "metadata": {
        "id": "FN_K-Xlw2KND"
      },
      "source": [
        "***Analysing your AAPL, IBM, GE, MSFT, GOOG Stocks***"
      ]
    },
    {
      "cell_type": "code",
      "metadata": {
        "id": "xGED8Bu020Ti",
        "colab": {
          "base_uri": "https://localhost:8080/",
          "height": 390
        },
        "outputId": "8586575c-cd9c-4427-8937-19a0fe8c0751"
      },
      "source": [
        "dfcomp = web.DataReader(['AAPL', 'IBM', 'GE', 'MSFT', 'GOOG'],'yahoo',start=start,end=end)['Adj Close']\n",
        "dfcomp.head(10)"
      ],
      "execution_count": null,
      "outputs": [
        {
          "output_type": "execute_result",
          "data": {
            "text/html": [
              "<div>\n",
              "<style scoped>\n",
              "    .dataframe tbody tr th:only-of-type {\n",
              "        vertical-align: middle;\n",
              "    }\n",
              "\n",
              "    .dataframe tbody tr th {\n",
              "        vertical-align: top;\n",
              "    }\n",
              "\n",
              "    .dataframe thead th {\n",
              "        text-align: right;\n",
              "    }\n",
              "</style>\n",
              "<table border=\"1\" class=\"dataframe\">\n",
              "  <thead>\n",
              "    <tr style=\"text-align: right;\">\n",
              "      <th>Symbols</th>\n",
              "      <th>AAPL</th>\n",
              "      <th>IBM</th>\n",
              "      <th>GE</th>\n",
              "      <th>MSFT</th>\n",
              "      <th>GOOG</th>\n",
              "    </tr>\n",
              "    <tr>\n",
              "      <th>Date</th>\n",
              "      <th></th>\n",
              "      <th></th>\n",
              "      <th></th>\n",
              "      <th></th>\n",
              "      <th></th>\n",
              "    </tr>\n",
              "  </thead>\n",
              "  <tbody>\n",
              "    <tr>\n",
              "      <th>2010-01-04</th>\n",
              "      <td>6.604801</td>\n",
              "      <td>93.500313</td>\n",
              "      <td>10.715343</td>\n",
              "      <td>24.168472</td>\n",
              "      <td>312.204773</td>\n",
              "    </tr>\n",
              "    <tr>\n",
              "      <th>2010-01-05</th>\n",
              "      <td>6.616219</td>\n",
              "      <td>92.370834</td>\n",
              "      <td>10.770829</td>\n",
              "      <td>24.176279</td>\n",
              "      <td>310.829926</td>\n",
              "    </tr>\n",
              "    <tr>\n",
              "      <th>2010-01-06</th>\n",
              "      <td>6.510980</td>\n",
              "      <td>91.770790</td>\n",
              "      <td>10.715343</td>\n",
              "      <td>24.027906</td>\n",
              "      <td>302.994293</td>\n",
              "    </tr>\n",
              "    <tr>\n",
              "      <th>2010-01-07</th>\n",
              "      <td>6.498945</td>\n",
              "      <td>91.453102</td>\n",
              "      <td>11.270185</td>\n",
              "      <td>23.778025</td>\n",
              "      <td>295.940735</td>\n",
              "    </tr>\n",
              "    <tr>\n",
              "      <th>2010-01-08</th>\n",
              "      <td>6.542150</td>\n",
              "      <td>92.370834</td>\n",
              "      <td>11.512927</td>\n",
              "      <td>23.942017</td>\n",
              "      <td>299.885956</td>\n",
              "    </tr>\n",
              "    <tr>\n",
              "      <th>2010-01-11</th>\n",
              "      <td>6.484439</td>\n",
              "      <td>91.403702</td>\n",
              "      <td>11.623892</td>\n",
              "      <td>23.637472</td>\n",
              "      <td>299.432648</td>\n",
              "    </tr>\n",
              "    <tr>\n",
              "      <th>2010-01-12</th>\n",
              "      <td>6.410679</td>\n",
              "      <td>92.130806</td>\n",
              "      <td>11.630828</td>\n",
              "      <td>23.481291</td>\n",
              "      <td>294.137512</td>\n",
              "    </tr>\n",
              "    <tr>\n",
              "      <th>2010-01-13</th>\n",
              "      <td>6.501104</td>\n",
              "      <td>91.933167</td>\n",
              "      <td>11.672442</td>\n",
              "      <td>23.699940</td>\n",
              "      <td>292.448822</td>\n",
              "    </tr>\n",
              "    <tr>\n",
              "      <th>2010-01-14</th>\n",
              "      <td>6.463451</td>\n",
              "      <td>93.401497</td>\n",
              "      <td>11.582279</td>\n",
              "      <td>24.176279</td>\n",
              "      <td>293.823669</td>\n",
              "    </tr>\n",
              "    <tr>\n",
              "      <th>2010-01-15</th>\n",
              "      <td>6.355436</td>\n",
              "      <td>93.027351</td>\n",
              "      <td>11.401958</td>\n",
              "      <td>24.098186</td>\n",
              "      <td>288.917053</td>\n",
              "    </tr>\n",
              "  </tbody>\n",
              "</table>\n",
              "</div>"
            ],
            "text/plain": [
              "Symbols         AAPL        IBM         GE       MSFT        GOOG\n",
              "Date                                                             \n",
              "2010-01-04  6.604801  93.500313  10.715343  24.168472  312.204773\n",
              "2010-01-05  6.616219  92.370834  10.770829  24.176279  310.829926\n",
              "2010-01-06  6.510980  91.770790  10.715343  24.027906  302.994293\n",
              "2010-01-07  6.498945  91.453102  11.270185  23.778025  295.940735\n",
              "2010-01-08  6.542150  92.370834  11.512927  23.942017  299.885956\n",
              "2010-01-11  6.484439  91.403702  11.623892  23.637472  299.432648\n",
              "2010-01-12  6.410679  92.130806  11.630828  23.481291  294.137512\n",
              "2010-01-13  6.501104  91.933167  11.672442  23.699940  292.448822\n",
              "2010-01-14  6.463451  93.401497  11.582279  24.176279  293.823669\n",
              "2010-01-15  6.355436  93.027351  11.401958  24.098186  288.917053"
            ]
          },
          "metadata": {
            "tags": []
          },
          "execution_count": 10
        }
      ]
    },
    {
      "cell_type": "markdown",
      "metadata": {
        "id": "SbHj7GUQ4DEs"
      },
      "source": [
        "***CORRELATION ANALYSIS ***"
      ]
    },
    {
      "cell_type": "code",
      "metadata": {
        "id": "az2aJK7g4JIB",
        "colab": {
          "base_uri": "https://localhost:8080/",
          "height": 390
        },
        "outputId": "224f8988-ee8c-4c6f-8c41-ba4746a4cd38"
      },
      "source": [
        "comp = dfcomp.pct_change()\n",
        "corr = comp.corr()\n",
        "comp.head(10)"
      ],
      "execution_count": null,
      "outputs": [
        {
          "output_type": "execute_result",
          "data": {
            "text/html": [
              "<div>\n",
              "<style scoped>\n",
              "    .dataframe tbody tr th:only-of-type {\n",
              "        vertical-align: middle;\n",
              "    }\n",
              "\n",
              "    .dataframe tbody tr th {\n",
              "        vertical-align: top;\n",
              "    }\n",
              "\n",
              "    .dataframe thead th {\n",
              "        text-align: right;\n",
              "    }\n",
              "</style>\n",
              "<table border=\"1\" class=\"dataframe\">\n",
              "  <thead>\n",
              "    <tr style=\"text-align: right;\">\n",
              "      <th>Symbols</th>\n",
              "      <th>AAPL</th>\n",
              "      <th>IBM</th>\n",
              "      <th>GE</th>\n",
              "      <th>MSFT</th>\n",
              "      <th>GOOG</th>\n",
              "    </tr>\n",
              "    <tr>\n",
              "      <th>Date</th>\n",
              "      <th></th>\n",
              "      <th></th>\n",
              "      <th></th>\n",
              "      <th></th>\n",
              "      <th></th>\n",
              "    </tr>\n",
              "  </thead>\n",
              "  <tbody>\n",
              "    <tr>\n",
              "      <th>2010-01-04</th>\n",
              "      <td>NaN</td>\n",
              "      <td>NaN</td>\n",
              "      <td>NaN</td>\n",
              "      <td>NaN</td>\n",
              "      <td>NaN</td>\n",
              "    </tr>\n",
              "    <tr>\n",
              "      <th>2010-01-05</th>\n",
              "      <td>0.001729</td>\n",
              "      <td>-0.012080</td>\n",
              "      <td>0.005178</td>\n",
              "      <td>0.000323</td>\n",
              "      <td>-0.004404</td>\n",
              "    </tr>\n",
              "    <tr>\n",
              "      <th>2010-01-06</th>\n",
              "      <td>-0.015906</td>\n",
              "      <td>-0.006496</td>\n",
              "      <td>-0.005152</td>\n",
              "      <td>-0.006137</td>\n",
              "      <td>-0.025209</td>\n",
              "    </tr>\n",
              "    <tr>\n",
              "      <th>2010-01-07</th>\n",
              "      <td>-0.001848</td>\n",
              "      <td>-0.003462</td>\n",
              "      <td>0.051780</td>\n",
              "      <td>-0.010400</td>\n",
              "      <td>-0.023280</td>\n",
              "    </tr>\n",
              "    <tr>\n",
              "      <th>2010-01-08</th>\n",
              "      <td>0.006648</td>\n",
              "      <td>0.010035</td>\n",
              "      <td>0.021538</td>\n",
              "      <td>0.006897</td>\n",
              "      <td>0.013331</td>\n",
              "    </tr>\n",
              "    <tr>\n",
              "      <th>2010-01-11</th>\n",
              "      <td>-0.008821</td>\n",
              "      <td>-0.010470</td>\n",
              "      <td>0.009638</td>\n",
              "      <td>-0.012720</td>\n",
              "      <td>-0.001512</td>\n",
              "    </tr>\n",
              "    <tr>\n",
              "      <th>2010-01-12</th>\n",
              "      <td>-0.011375</td>\n",
              "      <td>0.007955</td>\n",
              "      <td>0.000597</td>\n",
              "      <td>-0.006607</td>\n",
              "      <td>-0.017684</td>\n",
              "    </tr>\n",
              "    <tr>\n",
              "      <th>2010-01-13</th>\n",
              "      <td>0.014105</td>\n",
              "      <td>-0.002145</td>\n",
              "      <td>0.003578</td>\n",
              "      <td>0.009312</td>\n",
              "      <td>-0.005741</td>\n",
              "    </tr>\n",
              "    <tr>\n",
              "      <th>2010-01-14</th>\n",
              "      <td>-0.005792</td>\n",
              "      <td>0.015972</td>\n",
              "      <td>-0.007724</td>\n",
              "      <td>0.020099</td>\n",
              "      <td>0.004701</td>\n",
              "    </tr>\n",
              "    <tr>\n",
              "      <th>2010-01-15</th>\n",
              "      <td>-0.016712</td>\n",
              "      <td>-0.004006</td>\n",
              "      <td>-0.015569</td>\n",
              "      <td>-0.003230</td>\n",
              "      <td>-0.016699</td>\n",
              "    </tr>\n",
              "  </tbody>\n",
              "</table>\n",
              "</div>"
            ],
            "text/plain": [
              "Symbols         AAPL       IBM        GE      MSFT      GOOG\n",
              "Date                                                        \n",
              "2010-01-04       NaN       NaN       NaN       NaN       NaN\n",
              "2010-01-05  0.001729 -0.012080  0.005178  0.000323 -0.004404\n",
              "2010-01-06 -0.015906 -0.006496 -0.005152 -0.006137 -0.025209\n",
              "2010-01-07 -0.001848 -0.003462  0.051780 -0.010400 -0.023280\n",
              "2010-01-08  0.006648  0.010035  0.021538  0.006897  0.013331\n",
              "2010-01-11 -0.008821 -0.010470  0.009638 -0.012720 -0.001512\n",
              "2010-01-12 -0.011375  0.007955  0.000597 -0.006607 -0.017684\n",
              "2010-01-13  0.014105 -0.002145  0.003578  0.009312 -0.005741\n",
              "2010-01-14 -0.005792  0.015972 -0.007724  0.020099  0.004701\n",
              "2010-01-15 -0.016712 -0.004006 -0.015569 -0.003230 -0.016699"
            ]
          },
          "metadata": {
            "tags": []
          },
          "execution_count": 11
        }
      ]
    },
    {
      "cell_type": "markdown",
      "metadata": {
        "id": "-o39uCuP4csq"
      },
      "source": [
        "We can analyse the competition by running the percentage change and correlation (HEATMAPS). Percentage change will find how much the price changes compared to the previous day which defines returns. Knowing the correlation will help us see whether the returns are affected by other stocks’ returns"
      ]
    },
    {
      "cell_type": "code",
      "metadata": {
        "id": "tEdBe8Sa4ibT",
        "colab": {
          "base_uri": "https://localhost:8080/",
          "height": 487
        },
        "outputId": "11e54dc0-fd0a-479e-fe85-edeb5054a14f"
      },
      "source": [
        "plt.imshow(corr, cmap='inferno', interpolation='none')\n",
        "plt.colorbar()\n",
        "\n",
        "plt.xticks(range(len(corr)), corr.columns)\n",
        "plt.yticks(range(len(corr)), corr.columns);"
      ],
      "execution_count": null,
      "outputs": [
        {
          "output_type": "display_data",
          "data": {
            "image/png": "[encoded data removed]",
            "text/plain": [
              "<Figure size 720x576 with 2 Axes>"
            ]
          },
          "metadata": {
            "tags": []
          }
        }
      ]
    },
    {
      "cell_type": "markdown",
      "metadata": {
        "id": "WdPun-HI7VyO"
      },
      "source": [
        "OBSERVATION  : There's a great amount of correlation among the stocks , but these might be because of the rising trends in technology."
      ]
    },
    {
      "cell_type": "markdown",
      "metadata": {
        "id": "F0mcFYhP7vXU"
      },
      "source": [
        "***Stocks Return Rate and Risk***"
      ]
    },
    {
      "cell_type": "code",
      "metadata": {
        "id": "L0_rLtg47xKg",
        "colab": {
          "base_uri": "https://localhost:8080/",
          "height": 500
        },
        "outputId": "05f68051-5bc5-4f51-ca43-56421621675f"
      },
      "source": [
        "\n",
        "plt.scatter(comp.mean(), comp.std())\n",
        "plt.xlabel('Expected returns')\n",
        "plt.ylabel('Risk')\n",
        "\n",
        "for label, x, y in zip(comp.columns, comp.mean(), comp.std()):\n",
        "    plt.annotate(label, xy = (x , y), xytext = (20 , -20), textcoords = 'offset points',\n",
        "                 ha = 'right', va = 'bottom', bbox = dict(boxstyle = 'round, pad = 0.5', fc = 'cyan',\n",
        "                 alpha = 0.5), arrowprops = dict(arrowstyle = '->', connectionstyle = 'arc3, rad = 0'))"
      ],
      "execution_count": null,
      "outputs": [
        {
          "output_type": "display_data",
          "data": {
            "image/png": "[encoded data removed]",
            "text/plain": [
              "<Figure size 720x576 with 1 Axes>"
            ]
          },
          "metadata": {
            "tags": []
          }
        }
      ]
    },
    {
      "cell_type": "markdown",
      "metadata": {
        "id": "UmC9Vvja9bIv"
      },
      "source": [
        "## ***USING THE INDIA-NEWS-HEADLINE DATASET***"
      ]
    },
    {
      "cell_type": "code",
      "metadata": {
        "id": "vhh3j-7c9pF7"
      },
      "source": [
        "df1 = pd.read_csv('/content/gdrive/My Drive/sample data/india-news-headlines.csv')"
      ],
      "execution_count": null,
      "outputs": []
    },
    {
      "cell_type": "code",
      "metadata": {
        "id": "TEaefeZ6-DTI",
        "colab": {
          "base_uri": "https://localhost:8080/",
          "height": 359
        },
        "outputId": "dc3b4832-7c27-44bf-fdcc-6da24b451ac0"
      },
      "source": [
        "df1.head(10)"
      ],
      "execution_count": null,
      "outputs": [
        {
          "output_type": "execute_result",
          "data": {
            "text/html": [
              "<div>\n",
              "<style scoped>\n",
              "    .dataframe tbody tr th:only-of-type {\n",
              "        vertical-align: middle;\n",
              "    }\n",
              "\n",
              "    .dataframe tbody tr th {\n",
              "        vertical-align: top;\n",
              "    }\n",
              "\n",
              "    .dataframe thead th {\n",
              "        text-align: right;\n",
              "    }\n",
              "</style>\n",
              "<table border=\"1\" class=\"dataframe\">\n",
              "  <thead>\n",
              "    <tr style=\"text-align: right;\">\n",
              "      <th></th>\n",
              "      <th>publish_date</th>\n",
              "      <th>headline_category</th>\n",
              "      <th>headline_text</th>\n",
              "    </tr>\n",
              "  </thead>\n",
              "  <tbody>\n",
              "    <tr>\n",
              "      <th>0</th>\n",
              "      <td>20010101</td>\n",
              "      <td>sports.wwe</td>\n",
              "      <td>win over cena satisfying but defeating underta...</td>\n",
              "    </tr>\n",
              "    <tr>\n",
              "      <th>1</th>\n",
              "      <td>20010102</td>\n",
              "      <td>unknown</td>\n",
              "      <td>Status quo will not be disturbed at Ayodhya; s...</td>\n",
              "    </tr>\n",
              "    <tr>\n",
              "      <th>2</th>\n",
              "      <td>20010102</td>\n",
              "      <td>unknown</td>\n",
              "      <td>Fissures in Hurriyat over Pak visit</td>\n",
              "    </tr>\n",
              "    <tr>\n",
              "      <th>3</th>\n",
              "      <td>20010102</td>\n",
              "      <td>unknown</td>\n",
              "      <td>America's unwanted heading for India?</td>\n",
              "    </tr>\n",
              "    <tr>\n",
              "      <th>4</th>\n",
              "      <td>20010102</td>\n",
              "      <td>unknown</td>\n",
              "      <td>For bigwigs; it is destination Goa</td>\n",
              "    </tr>\n",
              "    <tr>\n",
              "      <th>5</th>\n",
              "      <td>20010102</td>\n",
              "      <td>unknown</td>\n",
              "      <td>Extra buses to clear tourist traffic</td>\n",
              "    </tr>\n",
              "    <tr>\n",
              "      <th>6</th>\n",
              "      <td>20010102</td>\n",
              "      <td>unknown</td>\n",
              "      <td>Dilute the power of transfers; says Riberio</td>\n",
              "    </tr>\n",
              "    <tr>\n",
              "      <th>7</th>\n",
              "      <td>20010102</td>\n",
              "      <td>unknown</td>\n",
              "      <td>Focus shifts to teaching of Hindi</td>\n",
              "    </tr>\n",
              "    <tr>\n",
              "      <th>8</th>\n",
              "      <td>20010102</td>\n",
              "      <td>unknown</td>\n",
              "      <td>IT will become compulsory in schools</td>\n",
              "    </tr>\n",
              "    <tr>\n",
              "      <th>9</th>\n",
              "      <td>20010102</td>\n",
              "      <td>unknown</td>\n",
              "      <td>Move to stop freedom fighters' pension flayed</td>\n",
              "    </tr>\n",
              "  </tbody>\n",
              "</table>\n",
              "</div>"
            ],
            "text/plain": [
              "   publish_date  ...                                      headline_text\n",
              "0      20010101  ...  win over cena satisfying but defeating underta...\n",
              "1      20010102  ...  Status quo will not be disturbed at Ayodhya; s...\n",
              "2      20010102  ...                Fissures in Hurriyat over Pak visit\n",
              "3      20010102  ...              America's unwanted heading for India?\n",
              "4      20010102  ...                 For bigwigs; it is destination Goa\n",
              "5      20010102  ...               Extra buses to clear tourist traffic\n",
              "6      20010102  ...        Dilute the power of transfers; says Riberio\n",
              "7      20010102  ...                  Focus shifts to teaching of Hindi\n",
              "8      20010102  ...               IT will become compulsory in schools\n",
              "9      20010102  ...      Move to stop freedom fighters' pension flayed\n",
              "\n",
              "[10 rows x 3 columns]"
            ]
          },
          "metadata": {
            "tags": []
          },
          "execution_count": 15
        }
      ]
    },
    {
      "cell_type": "code",
      "metadata": {
        "id": "NUJLtI5l-TJc",
        "colab": {
          "base_uri": "https://localhost:8080/",
          "height": 359
        },
        "outputId": "26901205-346e-45b9-d602-7402cbed299b"
      },
      "source": [
        "\n",
        "df1.tail(10)"
      ],
      "execution_count": null,
      "outputs": [
        {
          "output_type": "execute_result",
          "data": {
            "text/html": [
              "<div>\n",
              "<style scoped>\n",
              "    .dataframe tbody tr th:only-of-type {\n",
              "        vertical-align: middle;\n",
              "    }\n",
              "\n",
              "    .dataframe tbody tr th {\n",
              "        vertical-align: top;\n",
              "    }\n",
              "\n",
              "    .dataframe thead th {\n",
              "        text-align: right;\n",
              "    }\n",
              "</style>\n",
              "<table border=\"1\" class=\"dataframe\">\n",
              "  <thead>\n",
              "    <tr style=\"text-align: right;\">\n",
              "      <th></th>\n",
              "      <th>publish_date</th>\n",
              "      <th>headline_category</th>\n",
              "      <th>headline_text</th>\n",
              "    </tr>\n",
              "  </thead>\n",
              "  <tbody>\n",
              "    <tr>\n",
              "      <th>3297162</th>\n",
              "      <td>20200630</td>\n",
              "      <td>city.kanpur</td>\n",
              "      <td>vehicle of up stf team bringing gangster vikas...</td>\n",
              "    </tr>\n",
              "    <tr>\n",
              "      <th>3297163</th>\n",
              "      <td>20200630</td>\n",
              "      <td>entertainment.hindi.bollywood</td>\n",
              "      <td>sushant singh rajputs demise fans trend cbifor...</td>\n",
              "    </tr>\n",
              "    <tr>\n",
              "      <th>3297164</th>\n",
              "      <td>20200630</td>\n",
              "      <td>entertainment.hindi.bollywood</td>\n",
              "      <td>amitabh bachchans grandson agastya nanda prepp...</td>\n",
              "    </tr>\n",
              "    <tr>\n",
              "      <th>3297165</th>\n",
              "      <td>20200630</td>\n",
              "      <td>home.education</td>\n",
              "      <td>icse isc result 2020 when where to check class...</td>\n",
              "    </tr>\n",
              "    <tr>\n",
              "      <th>3297166</th>\n",
              "      <td>20200630</td>\n",
              "      <td>city.lucknow</td>\n",
              "      <td>up govt imposes weekend restrictions from tonight</td>\n",
              "    </tr>\n",
              "    <tr>\n",
              "      <th>3297167</th>\n",
              "      <td>20200630</td>\n",
              "      <td>gadgets-news</td>\n",
              "      <td>why tiktok removed 1 65 crore videos in india</td>\n",
              "    </tr>\n",
              "    <tr>\n",
              "      <th>3297168</th>\n",
              "      <td>20200630</td>\n",
              "      <td>entertainment.hindi.bollywood</td>\n",
              "      <td>apurva asrani calls alia bhatts mother soni ra...</td>\n",
              "    </tr>\n",
              "    <tr>\n",
              "      <th>3297169</th>\n",
              "      <td>20200630</td>\n",
              "      <td>entertainment.hindi.bollywood</td>\n",
              "      <td>kangana ranaut gets a doll version of herself ...</td>\n",
              "    </tr>\n",
              "    <tr>\n",
              "      <th>3297170</th>\n",
              "      <td>20200630</td>\n",
              "      <td>entertainment.hindi.bollywood</td>\n",
              "      <td>meezaan jaffrey reminisces his childhood days ...</td>\n",
              "    </tr>\n",
              "    <tr>\n",
              "      <th>3297171</th>\n",
              "      <td>20200630</td>\n",
              "      <td>entertainment.telugu.movies.news</td>\n",
              "      <td>prabhas20 titled as radhe shyam prabhas and po...</td>\n",
              "    </tr>\n",
              "  </tbody>\n",
              "</table>\n",
              "</div>"
            ],
            "text/plain": [
              "         publish_date  ...                                      headline_text\n",
              "3297162      20200630  ...  vehicle of up stf team bringing gangster vikas...\n",
              "3297163      20200630  ...  sushant singh rajputs demise fans trend cbifor...\n",
              "3297164      20200630  ...  amitabh bachchans grandson agastya nanda prepp...\n",
              "3297165      20200630  ...  icse isc result 2020 when where to check class...\n",
              "3297166      20200630  ...  up govt imposes weekend restrictions from tonight\n",
              "3297167      20200630  ...      why tiktok removed 1 65 crore videos in india\n",
              "3297168      20200630  ...  apurva asrani calls alia bhatts mother soni ra...\n",
              "3297169      20200630  ...  kangana ranaut gets a doll version of herself ...\n",
              "3297170      20200630  ...  meezaan jaffrey reminisces his childhood days ...\n",
              "3297171      20200630  ...  prabhas20 titled as radhe shyam prabhas and po...\n",
              "\n",
              "[10 rows x 3 columns]"
            ]
          },
          "metadata": {
            "tags": []
          },
          "execution_count": 16
        }
      ]
    },
    {
      "cell_type": "code",
      "metadata": {
        "id": "bQZpr1b0-YJx",
        "colab": {
          "base_uri": "https://localhost:8080/",
          "height": 187
        },
        "outputId": "85fd79da-b246-4640-f62d-b296a1c46764"
      },
      "source": [
        "df1.info()"
      ],
      "execution_count": null,
      "outputs": [
        {
          "output_type": "stream",
          "text": [
            "<class 'pandas.core.frame.DataFrame'>\n",
            "RangeIndex: 3297172 entries, 0 to 3297171\n",
            "Data columns (total 3 columns):\n",
            " #   Column             Dtype \n",
            "---  ------             ----- \n",
            " 0   publish_date       int64 \n",
            " 1   headline_category  object\n",
            " 2   headline_text      object\n",
            "dtypes: int64(1), object(2)\n",
            "memory usage: 75.5+ MB\n"
          ],
          "name": "stdout"
        }
      ]
    },
    {
      "cell_type": "code",
      "metadata": {
        "id": "sTYjDghH-dCq",
        "colab": {
          "base_uri": "https://localhost:8080/",
          "height": 297
        },
        "outputId": "544c5cf8-6b11-4cb6-fc22-9d45f7c03bc6"
      },
      "source": [
        "df1.describe()"
      ],
      "execution_count": null,
      "outputs": [
        {
          "output_type": "execute_result",
          "data": {
            "text/html": [
              "<div>\n",
              "<style scoped>\n",
              "    .dataframe tbody tr th:only-of-type {\n",
              "        vertical-align: middle;\n",
              "    }\n",
              "\n",
              "    .dataframe tbody tr th {\n",
              "        vertical-align: top;\n",
              "    }\n",
              "\n",
              "    .dataframe thead th {\n",
              "        text-align: right;\n",
              "    }\n",
              "</style>\n",
              "<table border=\"1\" class=\"dataframe\">\n",
              "  <thead>\n",
              "    <tr style=\"text-align: right;\">\n",
              "      <th></th>\n",
              "      <th>publish_date</th>\n",
              "    </tr>\n",
              "  </thead>\n",
              "  <tbody>\n",
              "    <tr>\n",
              "      <th>count</th>\n",
              "      <td>3.297172e+06</td>\n",
              "    </tr>\n",
              "    <tr>\n",
              "      <th>mean</th>\n",
              "      <td>2.012470e+07</td>\n",
              "    </tr>\n",
              "    <tr>\n",
              "      <th>std</th>\n",
              "      <td>4.896213e+04</td>\n",
              "    </tr>\n",
              "    <tr>\n",
              "      <th>min</th>\n",
              "      <td>2.001010e+07</td>\n",
              "    </tr>\n",
              "    <tr>\n",
              "      <th>25%</th>\n",
              "      <td>2.009101e+07</td>\n",
              "    </tr>\n",
              "    <tr>\n",
              "      <th>50%</th>\n",
              "      <td>2.013071e+07</td>\n",
              "    </tr>\n",
              "    <tr>\n",
              "      <th>75%</th>\n",
              "      <td>2.016110e+07</td>\n",
              "    </tr>\n",
              "    <tr>\n",
              "      <th>max</th>\n",
              "      <td>2.020063e+07</td>\n",
              "    </tr>\n",
              "  </tbody>\n",
              "</table>\n",
              "</div>"
            ],
            "text/plain": [
              "       publish_date\n",
              "count  3.297172e+06\n",
              "mean   2.012470e+07\n",
              "std    4.896213e+04\n",
              "min    2.001010e+07\n",
              "25%    2.009101e+07\n",
              "50%    2.013071e+07\n",
              "75%    2.016110e+07\n",
              "max    2.020063e+07"
            ]
          },
          "metadata": {
            "tags": []
          },
          "execution_count": 18
        }
      ]
    },
    {
      "cell_type": "code",
      "metadata": {
        "id": "Q37a6b2R-kKg",
        "colab": {
          "base_uri": "https://localhost:8080/",
          "height": 85
        },
        "outputId": "5625ae65-7883-4168-f56d-448b42aea004"
      },
      "source": [
        "df1['headline_category'].unique()"
      ],
      "execution_count": null,
      "outputs": [
        {
          "output_type": "execute_result",
          "data": {
            "text/plain": [
              "array(['sports.wwe', 'unknown', 'entertainment.hindi.bollywood', ...,\n",
              "       'elections.assembly-elections.delhi-assembly-elections',\n",
              "       'elections.assembly-elections.delhi', 'life-style.coronavirus'],\n",
              "      dtype=object)"
            ]
          },
          "metadata": {
            "tags": []
          },
          "execution_count": 19
        }
      ]
    },
    {
      "cell_type": "code",
      "metadata": {
        "id": "pPpBS21C-osr",
        "colab": {
          "base_uri": "https://localhost:8080/",
          "height": 85
        },
        "outputId": "3fdc3f1b-8dd5-4212-c15d-adc3c71251a6"
      },
      "source": [
        "#Check null values\n",
        "df1.isna().any()"
      ],
      "execution_count": null,
      "outputs": [
        {
          "output_type": "execute_result",
          "data": {
            "text/plain": [
              "publish_date         False\n",
              "headline_category    False\n",
              "headline_text        False\n",
              "dtype: bool"
            ]
          },
          "metadata": {
            "tags": []
          },
          "execution_count": 20
        }
      ]
    },
    {
      "cell_type": "code",
      "metadata": {
        "id": "PbHGF-xO-r-b",
        "colab": {
          "base_uri": "https://localhost:8080/",
          "height": 221
        },
        "outputId": "5fb92dd8-2542-4aec-94b0-4e91fedb70ba"
      },
      "source": [
        "df1['headline_text'].value_counts()"
      ],
      "execution_count": null,
      "outputs": [
        {
          "output_type": "execute_result",
          "data": {
            "text/plain": [
              "Sunny Leone HOT photos                                        98\n",
              "Watch top news in one-minute                                  90\n",
              "Official Site                                                 89\n",
              "Football: Italian Serie A table                               88\n",
              "Football: Spanish La Liga table                               86\n",
              "                                                              ..\n",
              "Soon; colleges across Goa to have full-time counsellors        1\n",
              "I am a victim of scam; says Anjan Dutta                        1\n",
              "Lamy for world summit                                          1\n",
              "US listed Indian stocks gain $1.6bn in a week                  1\n",
              "More heavy rainfall forecast in Himachal for next two days     1\n",
              "Name: headline_text, Length: 3082589, dtype: int64"
            ]
          },
          "metadata": {
            "tags": []
          },
          "execution_count": 21
        }
      ]
    },
    {
      "cell_type": "code",
      "metadata": {
        "id": "mGDJaaq1_Wlv",
        "colab": {
          "base_uri": "https://localhost:8080/",
          "height": 221
        },
        "outputId": "ca8be673-93d0-45f2-b0c9-301ef468dbb7"
      },
      "source": [
        "df1['headline_category'].value_counts()"
      ],
      "execution_count": null,
      "outputs": [
        {
          "output_type": "execute_result",
          "data": {
            "text/plain": [
              "india                      285619\n",
              "unknown                    207732\n",
              "city.mumbai                132649\n",
              "city.delhi                 124658\n",
              "business.india-business    115246\n",
              "                            ...  \n",
              "actresses                       7\n",
              "sports.headline3                7\n",
              "did-you-know                    6\n",
              "sports.headline6                3\n",
              "party-manifestos                2\n",
              "Name: headline_category, Length: 1016, dtype: int64"
            ]
          },
          "metadata": {
            "tags": []
          },
          "execution_count": 22
        }
      ]
    },
    {
      "cell_type": "markdown",
      "metadata": {
        "id": "1v3EoEdP_rlE"
      },
      "source": [
        "# **Exploratory Data Analysis using NLP and NLTK tools**"
      ]
    },
    {
      "cell_type": "code",
      "metadata": {
        "id": "BOV5F8Z2_v-Y",
        "colab": {
          "base_uri": "https://localhost:8080/",
          "height": 494
        },
        "outputId": "48f47a75-921b-4cae-8bf4-9f663c1fec5d"
      },
      "source": [
        "#Observe the NUMBER OF CHARACTERS present in each sentence giving a rough idea about the news headline length.\n",
        "\n",
        "df1['headline_text'].str.len().hist(color = \"skyblue\")\n",
        "plt.show()"
      ],
      "execution_count": null,
      "outputs": [
        {
          "output_type": "display_data",
          "data": {
            "image/png": "[encoded data removed]",
            "text/plain": [
              "<Figure size 720x576 with 1 Axes>"
            ]
          },
          "metadata": {
            "tags": []
          }
        }
      ]
    },
    {
      "cell_type": "markdown",
      "metadata": {
        "id": "mxDRpQsiB3tG"
      },
      "source": [
        "OBSERVATION : \n",
        "\n",
        "The histogram shows that news headlines range from 10 to 70 characters and on average it is between 25 to 55 characters"
      ]
    },
    {
      "cell_type": "code",
      "metadata": {
        "id": "lw2K_f9GB-oX",
        "colab": {
          "base_uri": "https://localhost:8080/",
          "height": 494
        },
        "outputId": "cdd4c5ce-f6d3-4250-8364-dd3e21f37fac"
      },
      "source": [
        "#Observe the NUMBER OF WORDS present appearing in each news headline\n",
        "\n",
        "df1['headline_text'].str.split().\\\n",
        "   apply(lambda x : [len(i) for i in x]). \\\n",
        "   map(lambda x: np.mean(x)).hist(color = \"skyblue\")\n",
        "plt.show()\n"
      ],
      "execution_count": null,
      "outputs": [
        {
          "output_type": "display_data",
          "data": {
            "image/png": "[encoded data removed]",
            "text/plain": [
              "<Figure size 720x576 with 1 Axes>"
            ]
          },
          "metadata": {
            "tags": []
          }
        }
      ]
    },
    {
      "cell_type": "markdown",
      "metadata": {
        "id": "5hrzKe8EDOrx"
      },
      "source": [
        "OBSERVATION : \n",
        "\n",
        "1.   The average word length ranges between 1 to 18 with 10 being the most common length.\n",
        "\n",
        "2.   Analyzing further the amount and the types of stopwords(words that are most commonly used in any language such as “the”,” a”,” an” etc.) can give us some good insights into the data  because these words are probably small in length these words may have caused the above graph to be left-skewed.\n",
        "\n",
        "3.   To get the corpus containing stopwords you can use the nltk library. Nltk contains stopwords from many languages. Since we are only dealing with English news I will filter the English stopwords from the corpus\n",
        "\n"
      ]
    },
    {
      "cell_type": "code",
      "metadata": {
        "id": "gnytxqNNEULh",
        "colab": {
          "base_uri": "https://localhost:8080/",
          "height": 51
        },
        "outputId": "f3d2bf6b-bac3-4ec1-9656-397d13eb7f76"
      },
      "source": [
        "import nltk\n",
        "from nltk.corpus import stopwords\n",
        "nltk.download('stopwords')\n",
        "stop=set(stopwords.words('english'))"
      ],
      "execution_count": null,
      "outputs": [
        {
          "output_type": "stream",
          "text": [
            "[nltk_data] Downloading package stopwords to /root/nltk_data...\n",
            "[nltk_data]   Unzipping corpora/stopwords.zip.\n"
          ],
          "name": "stdout"
        }
      ]
    },
    {
      "cell_type": "code",
      "metadata": {
        "id": "qZC8bcpfE4X0"
      },
      "source": [
        "corpus=[]\n",
        "new= df1['headline_text'].str.split()\n",
        "new=new.values.tolist()\n",
        "corpus=[word for i in new for word in i]\n",
        "\n",
        "from collections import defaultdict\n",
        "dic=defaultdict(int)\n",
        "for word in corpus:\n",
        "    if word in stop:\n",
        "        dic[word]+=1"
      ],
      "execution_count": null,
      "outputs": []
    },
    {
      "cell_type": "markdown",
      "metadata": {
        "id": "G8T0jtIfFIvd"
      },
      "source": [
        "Inspection of words other than stopwords which occur frequently. We will use the counter function from the collections library to count and store the occurrences of each word in a list of tuples. "
      ]
    },
    {
      "cell_type": "code",
      "metadata": {
        "id": "EYYuWdpaFYvy",
        "colab": {
          "base_uri": "https://localhost:8080/",
          "height": 483
        },
        "outputId": "d4ae3ee0-3f79-43ce-fec9-694090ea14fe"
      },
      "source": [
        "from collections import Counter\n",
        "\n",
        "counter = Counter(corpus)\n",
        "most = counter.most_common()\n",
        "x, y = [], []\n",
        "for word, count in most[:40]:\n",
        "    if (word not in stop):\n",
        "        x.append(word)\n",
        "        y.append(count)\n",
        "\n",
        "sns.barplot(x=y,y=x,palette=\"rocket\")\n",
        "plt.show()"
      ],
      "execution_count": null,
      "outputs": [
        {
          "output_type": "display_data",
          "data": {
            "image/png": "[encoded data removed]",
            "text/plain": [
              "<Figure size 720x576 with 1 Axes>"
            ]
          },
          "metadata": {
            "tags": []
          }
        }
      ]
    },
    {
      "cell_type": "markdown",
      "metadata": {
        "id": "BXy4s32mF7nt"
      },
      "source": [
        "The words “Rs”, “India” and “held” \"says\" dominate the headlines over the last 15 year but when we observe other words in the graph they are all related to the RS — India."
      ]
    },
    {
      "cell_type": "markdown",
      "metadata": {
        "id": "fnMXMMArHOA2"
      },
      "source": [
        "# ***Ngram exploration***"
      ]
    },
    {
      "cell_type": "code",
      "metadata": {
        "id": "uv-7uVxnHSO-",
        "colab": {
          "base_uri": "https://localhost:8080/",
          "height": 119
        },
        "outputId": "55696b8d-7346-47cb-a529-47131a3d225d"
      },
      "source": [
        "from nltk.util import ngrams\n",
        "list(ngrams(['I' ,'went','to','the','market','and', 'bank'],2))"
      ],
      "execution_count": null,
      "outputs": [
        {
          "output_type": "execute_result",
          "data": {
            "text/plain": [
              "[('I', 'went'),\n",
              " ('went', 'to'),\n",
              " ('to', 'the'),\n",
              " ('the', 'market'),\n",
              " ('market', 'and'),\n",
              " ('and', 'bank')]"
            ]
          },
          "metadata": {
            "tags": []
          },
          "execution_count": 28
        }
      ]
    },
    {
      "cell_type": "markdown",
      "metadata": {
        "id": "CWt_9peEH09c"
      },
      "source": [
        "Ngrams are simply contiguous sequences of n words.If the number of words is two, it is called bigram. For 3 words it is called a trigram and so on. Looking at most frequent n-grams can give you a better understanding of the context in which the word was used."
      ]
    },
    {
      "cell_type": "markdown",
      "metadata": {
        "id": "mr-E2AQIIaXn"
      },
      "source": [
        "To build a representation of our vocabulary we will use Countvectorizer to analyze the top bigrams in our news headlines. Countvectorizer is a simple method used to tokenize, vectorize and represent the corpus in an appropriate form available in sklearn.feature_engineering.text ."
      ]
    },
    {
      "cell_type": "code",
      "metadata": {
        "id": "LpDCjFouI0pX",
        "colab": {
          "base_uri": "https://localhost:8080/",
          "height": 483
        },
        "outputId": "645197bc-faa0-44a4-c3f7-881dbfe4530c"
      },
      "source": [
        "from sklearn.feature_extraction.text import CountVectorizer\n",
        "def get_top_ngram(corpus, n=None):\n",
        "    vec = CountVectorizer(ngram_range=(n, n)).fit(corpus)\n",
        "    bag_of_words = vec.transform(corpus)\n",
        "    sum_words = bag_of_words.sum(axis=0) \n",
        "    words_freq = [(word, sum_words[0, idx]) \n",
        "                  for word, idx in vec.vocabulary_.items()]\n",
        "    words_freq =sorted(words_freq, key = lambda x: x[1], reverse=True)\n",
        "    return words_freq[:10]\n",
        "top_n_bigrams=get_top_ngram(df1['headline_text'],2)[:10]\n",
        "x,y=map(list,zip(*top_n_bigrams))\n",
        "sns.barplot(x=y,y=x,palette=\"rocket\")\n",
        "plt.show()"
      ],
      "execution_count": null,
      "outputs": [
        {
          "output_type": "display_data",
          "data": {
            "image/png": "[encoded data removed]",
            "text/plain": [
              "<Figure size 720x576 with 1 Axes>"
            ]
          },
          "metadata": {
            "tags": []
          }
        }
      ]
    },
    {
      "cell_type": "markdown",
      "metadata": {
        "id": "11vztmUsJZba"
      },
      "source": [
        "# ***Textblob***"
      ]
    },
    {
      "cell_type": "markdown",
      "metadata": {
        "id": "Qny9_coxJjxc"
      },
      "source": [
        "Running this on news headlines , TextBlob returns two properties:\n",
        "\n",
        "1.Polarity: is a floating-point number that lies in the range of [-1,1] where 1 means positive statement and -1 means negative. \n",
        "\n",
        "2.Subjectivity: refers to how someone’s judgment is shaped by personal opinions and feelings and is represented as a floating-point value which lies in the range of [0,1]."
      ]
    },
    {
      "cell_type": "code",
      "metadata": {
        "id": "3po7bu_dJ5y5",
        "colab": {
          "base_uri": "https://localhost:8080/",
          "height": 494
        },
        "outputId": "35e53ffc-2d41-4e42-90a1-9992dea1a8cb"
      },
      "source": [
        "from textblob import TextBlob\n",
        "def polarity(text):\n",
        "    return TextBlob(text).sentiment.polarity\n",
        "df1['polarity_score']=df1['headline_text'].\\\n",
        "   apply(lambda x : polarity(x))\n",
        "df1['polarity_score'].hist(color=\"darkblue\")\n",
        "plt.show()"
      ],
      "execution_count": null,
      "outputs": [
        {
          "output_type": "display_data",
          "data": {
            "image/png": "[encoded data removed]",
            "text/plain": [
              "<Figure size 720x576 with 1 Axes>"
            ]
          },
          "metadata": {
            "tags": []
          }
        }
      ]
    },
    {
      "cell_type": "markdown",
      "metadata": {
        "id": "XLPmha3xLEnd"
      },
      "source": [
        "OBSERVATION : \n",
        "\n",
        "\n",
        "1.   Polarity mainly ranges between 0.00 and 0.20 , indicating that the majority of the news headlines are neutral.\n",
        "\n",
        "From this we will classify the news as negative, positive and neutral based on the scores\n",
        "\n"
      ]
    },
    {
      "cell_type": "code",
      "metadata": {
        "id": "IbmjxJ5-Lv5u",
        "colab": {
          "base_uri": "https://localhost:8080/",
          "height": 494
        },
        "outputId": "94b91338-0f13-45d6-85cf-1da10be92698"
      },
      "source": [
        "def sentiment(x):\n",
        "    if x<0:\n",
        "        return 'negative'\n",
        "    elif x==0:\n",
        "        return 'neutral'\n",
        "    else:\n",
        "        return 'positive'\n",
        "    \n",
        "df1['polarity']=df1['polarity_score'].\\\n",
        "   map(lambda x: sentiment(x))\n",
        "plt.bar(df1.polarity.value_counts().index,\n",
        "        df1.polarity.value_counts())\n",
        "plt.show()"
      ],
      "execution_count": null,
      "outputs": [
        {
          "output_type": "display_data",
          "data": {
            "image/png": "[encoded data removed]",
            "text/plain": [
              "<Figure size 720x576 with 1 Axes>"
            ]
          },
          "metadata": {
            "tags": []
          }
        }
      ]
    },
    {
      "cell_type": "markdown",
      "metadata": {
        "id": "AfYwXfw5NQgV"
      },
      "source": [
        " OBSERVATION : \n",
        " \n",
        " 70 % of news is neutral with only 18% of positive and 11% of negative."
      ]
    },
    {
      "cell_type": "code",
      "metadata": {
        "id": "IY2TOPvNNbYR",
        "colab": {
          "base_uri": "https://localhost:8080/",
          "height": 119
        },
        "outputId": "bccd3eac-5919-4dc7-fdb4-fd0598ae39fa"
      },
      "source": [
        "df1[df1['polarity']=='positive']['headline_text'].head()"
      ],
      "execution_count": null,
      "outputs": [
        {
          "output_type": "execute_result",
          "data": {
            "text/plain": [
              "0     win over cena satisfying but defeating underta...\n",
              "5                  Extra buses to clear tourist traffic\n",
              "13          Will Qureshi's return really help the govt?\n",
              "31                 Extra buses to clear tourist traffic\n",
              "39          Will Qureshi's return really help the govt?\n",
              "Name: headline_text, dtype: object"
            ]
          },
          "metadata": {
            "tags": []
          },
          "execution_count": 34
        }
      ]
    },
    {
      "cell_type": "code",
      "metadata": {
        "id": "FfOFQYUONfn_",
        "colab": {
          "base_uri": "https://localhost:8080/",
          "height": 119
        },
        "outputId": "c7456c97-0dc9-4760-bc65-1bb1f0d9174b"
      },
      "source": [
        "df1[df1['polarity']=='negative']['headline_text'].head()"
      ],
      "execution_count": null,
      "outputs": [
        {
          "output_type": "execute_result",
          "data": {
            "text/plain": [
              "66         Destroying myths and doubts on sexuality\n",
              "87         Powerless north India gropes in the dark\n",
              "105                        10-year-old girl missing\n",
              "132              Net lottery: A winner or a sucker?\n",
              "143    Mental illness can pass from parent to child\n",
              "Name: headline_text, dtype: object"
            ]
          },
          "metadata": {
            "tags": []
          },
          "execution_count": 35
        }
      ]
    }
  ]
}